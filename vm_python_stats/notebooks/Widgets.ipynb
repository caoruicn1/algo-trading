{
 "metadata": {
  "name": "",
  "signature": "sha256:0bf0edf176488331e80cd5220baaaf601b24bf3dd5a1254ce0f781eb32f26b0e"
 },
 "nbformat": 3,
 "nbformat_minor": 0,
 "worksheets": [
  {
   "cells": [
    {
     "cell_type": "markdown",
     "metadata": {},
     "source": [
      "# Import libraries\n",
      "\n",
      "From the tutorial on http://www.youtube.com/watch?v=wxVx54ax47s"
     ]
    },
    {
     "cell_type": "code",
     "collapsed": false,
     "input": [
      "import numpy as np\n",
      "import matplotlib.pyplot as plt\n",
      "\n",
      "from IPython.html.widgets import interact\n",
      "from IPython.html import widgets\n",
      "from IPython.display import display\n",
      "\n",
      "%pylab inline"
     ],
     "language": "python",
     "metadata": {},
     "outputs": [
      {
       "output_type": "stream",
       "stream": "stdout",
       "text": [
        "Populating the interactive namespace from numpy and matplotlib\n"
       ]
      }
     ],
     "prompt_number": 41
    },
    {
     "cell_type": "markdown",
     "metadata": {},
     "source": [
      "# Built-in widgets"
     ]
    },
    {
     "cell_type": "code",
     "collapsed": false,
     "input": [
      "tab1_children = [widgets.ButtonWidget(description=\"ButtonWidget\"),\n",
      "    widgets.CheckboxWidget(description=\"CheckboxWidget\"),\n",
      "    widgets.DropdownWidget(values=[1, 2], description=\"DropdownWidget\"),\n",
      "    widgets.RadioButtonsWidget(values=[1, 2], description=\"RadioButtonsWidget\"),\n",
      "    widgets.SelectWidget(values=[1, 2], description=\"SelectWidget\"),\n",
      "    widgets.TextWidget(description=\"TextWidget\"),\n",
      "    widgets.TextareaWidget(description=\"TextareaWidget\"),\n",
      "    widgets.ToggleButtonWidget(description=\"ToggleButtonWidget\"),\n",
      "    widgets.ToggleButtonsWidget(values=[\"Value 1\", \"Value 2\"], description=\"ToggleButtonsWidget\")\n",
      "]\n",
      "\n",
      "tab2_children = [widgets.BoundedFloatTextWidget(description=\"BoundedFloatTextWidget\"),\n",
      "    widgets.BoundedIntTextWidget(description=\"BoundedIntTextWidget\"),\n",
      "    widgets.FloatSliderWidget(description=\"FloatSliderWidget\"),\n",
      "    widgets.FloatTextWidget(description=\"FloatTextWidget\"),\n",
      "    widgets.IntSliderWidget(description=\"IntSliderWidget\"),\n",
      "    widgets.IntTextWidget(description=\"IntTextWidget\")\n",
      "]\n",
      "\n",
      "tab3_children = [widgets.LatexWidget(value=\"$f(x) = x^25\", description=\"LatexWidget\"),\n",
      "    widgets.HTMLWidget(value=\"<strong>HTML Code</strong>\", description=\"HTMLWidget\")\n",
      "]\n",
      "\n",
      "tab1 = widgets.ContainerWidget(children=tab1_children)\n",
      "tab2 = widgets.ContainerWidget(children=tab2_children)\n",
      "tab3 = widgets.ContainerWidget(children=tab3_children)\n"
     ],
     "language": "python",
     "metadata": {},
     "outputs": [],
     "prompt_number": 42
    },
    {
     "cell_type": "code",
     "collapsed": false,
     "input": [
      "i = widgets.AccordionWidget(children=[tab1, tab2, tab3])\n",
      "i.set_title(0, \"Basic Widgets\")\n",
      "i.set_title(1, \"Numbers Input\")\n",
      "i.set_title(2, \"Output\")\n",
      "display(i)"
     ],
     "language": "python",
     "metadata": {},
     "outputs": [],
     "prompt_number": 43
    },
    {
     "cell_type": "markdown",
     "metadata": {},
     "source": [
      "# Controlling a Chart"
     ]
    },
    {
     "cell_type": "markdown",
     "metadata": {},
     "source": [
      "Create a function that plots (x, y) and adds a title"
     ]
    },
    {
     "cell_type": "code",
     "collapsed": false,
     "input": [
      "# plot x, y and add a title\n",
      "def plt_arrays(x, y, title=\"\", color=\"red\", linestyle=\"dashed\", linewidth=2):\n",
      "    fig = plt.figure()\n",
      "    axes = fig.add_subplot(111)\n",
      "    axes.plot(x, y, color=color, linestyle=linestyle, linewidth=linewidth)\n",
      "    axes.set_title(title)\n",
      "    axes.grid()\n",
      "    plt.show()"
     ],
     "language": "python",
     "metadata": {},
     "outputs": [],
     "prompt_number": 44
    },
    {
     "cell_type": "markdown",
     "metadata": {},
     "source": [
      "Define a function that returns the following:\n",
      "\n",
      "$f(x) = ax^3 + bx^2 + cx + d$\n",
      "\n",
      "where $a, b, c, d$ are constants."
     ]
    },
    {
     "cell_type": "code",
     "collapsed": false,
     "input": [
      "def f(a, b, c, d, **kwargs):\n",
      "    x = np.linspace(-10, 10, 20)\n",
      "    y = a * x**3 + b * x**2 + c* x + d\n",
      "    \n",
      "    title = \"$f(x) = (%s)x^3 + (%s)x^2 + (%s)x + (%s)$\" % (a, b, c, d)\n",
      "    \n",
      "    plt_arrays(x, y, **kwargs)"
     ],
     "language": "python",
     "metadata": {},
     "outputs": [],
     "prompt_number": 45
    },
    {
     "cell_type": "code",
     "collapsed": false,
     "input": [
      "a = 0.25\n",
      "b = 2\n",
      "c = -4\n",
      "d = 0\n",
      "\n",
      "i = interact(f,\n",
      "             a = (-10., 10),\n",
      "             b = (-10., 10),\n",
      "             c = (-10., 10),\n",
      "             d = (-10., 10),\n",
      "             color = [\"red\", \"blue\", \"green\"],\n",
      "             linestyle = [\"solid\", \"dashed\"],\n",
      "             linewidth = (1, 5)\n",
      ")"
     ],
     "language": "python",
     "metadata": {},
     "outputs": [
      {
       "metadata": {},
       "output_type": "display_data",
       "png": "[encoded data removed]",
       "text": [
        "<matplotlib.figure.Figure at 0x7faee334dad0>"
       ]
      }
     ],
     "prompt_number": 47
    },
    {
     "cell_type": "markdown",
     "metadata": {},
     "source": [
      "# TabWidget"
     ]
    },
    {
     "cell_type": "code",
     "collapsed": false,
     "input": [
      "tabs = widgets.TabWidget()\n",
      "tabs.children = [tab1, tab2]\n",
      "tabs"
     ],
     "language": "python",
     "metadata": {},
     "outputs": [],
     "prompt_number": 49
    },
    {
     "cell_type": "markdown",
     "metadata": {},
     "source": [
      "# Popup"
     ]
    },
    {
     "cell_type": "code",
     "collapsed": false,
     "input": [
      "popup = widgets.PopupWidget(description=\"Register Now!\")\n",
      "popup.children = [tab3]\n",
      "popup"
     ],
     "language": "python",
     "metadata": {},
     "outputs": [],
     "prompt_number": 51
    },
    {
     "cell_type": "code",
     "collapsed": false,
     "input": [],
     "language": "python",
     "metadata": {},
     "outputs": []
    }
   ],
   "metadata": {}
  }
 ]
}