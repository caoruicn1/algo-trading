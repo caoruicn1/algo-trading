{
 "metadata": {
  "name": "",
  "signature": "sha256:4b1b0e1f4b0ed3b888b8a49f91a2a87af7b80d21ebe0ace6ab5cbf4cebb0b1b2"
 },
 "nbformat": 3,
 "nbformat_minor": 0,
 "worksheets": [
  {
   "cells": [
    {
     "cell_type": "markdown",
     "metadata": {},
     "source": [
      "This IPython notebook is designed to be used with user interface widgets such as \"Buttons\", \"Lists\" and \"Edit fields\" rather than entering Python code in cells. To interact with the notebook first select \"Cell/Run All\" from the menu, then follow the steps below."
     ]
    },
    {
     "cell_type": "markdown",
     "metadata": {
      "slideshow": {
       "slide_type": "notes"
      }
     },
     "source": [
      "## Step 1\n",
      "\n",
      "Enter the input file name and click `Process file`. Enter `test.csv` for an example input file."
     ]
    },
    {
     "cell_type": "code",
     "collapsed": false,
     "input": [
      "import widget_demo; reload(widget_demo)\n",
      "dg = widget_demo.DialogGroup()\n",
      "dg.displayFileDialog()"
     ],
     "language": "python",
     "metadata": {},
     "outputs": [
      {
       "output_type": "stream",
       "stream": "stdout",
       "text": [
        "File asdf does not exist\n"
       ]
      },
      {
       "output_type": "stream",
       "stream": "stdout",
       "text": [
        "Processing input file test.csv.."
       ]
      },
      {
       "output_type": "stream",
       "stream": "stdout",
       "text": [
        "."
       ]
      },
      {
       "output_type": "stream",
       "stream": "stdout",
       "text": [
        "."
       ]
      },
      {
       "output_type": "stream",
       "stream": "stdout",
       "text": [
        "."
       ]
      },
      {
       "output_type": "stream",
       "stream": "stdout",
       "text": [
        "done"
       ]
      },
      {
       "output_type": "stream",
       "stream": "stdout",
       "text": [
        "\n"
       ]
      }
     ],
     "prompt_number": 1
    },
    {
     "cell_type": "markdown",
     "metadata": {},
     "source": [
      "## Step 2\n",
      "\n",
      "Select the item in the list box to display the detailed information"
     ]
    },
    {
     "cell_type": "code",
     "collapsed": false,
     "input": [
      "dg.displayResultsDialog()"
     ],
     "language": "python",
     "metadata": {},
     "outputs": [],
     "prompt_number": 2
    },
    {
     "cell_type": "code",
     "collapsed": false,
     "input": [],
     "language": "python",
     "metadata": {},
     "outputs": []
    }
   ],
   "metadata": {}
  }
 ]
}