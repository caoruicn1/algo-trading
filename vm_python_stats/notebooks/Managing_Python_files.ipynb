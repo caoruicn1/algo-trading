{
 "metadata": {
  "name": "",
  "signature": "sha256:d577be5789c26f71155d1c1d25bff68cbe96f1096b89495f17ac6cefc63a2f16"
 },
 "nbformat": 3,
 "nbformat_minor": 0,
 "worksheets": [
  {
   "cells": [
    {
     "cell_type": "markdown",
     "metadata": {},
     "source": [
      "Creating and modifying Python files\n",
      "===================================="
     ]
    },
    {
     "cell_type": "markdown",
     "metadata": {},
     "source": [
      "Using IPython you can create a Python file or module and modify or append to the file."
     ]
    },
    {
     "cell_type": "markdown",
     "metadata": {},
     "source": [
      "## Creating a module"
     ]
    },
    {
     "cell_type": "markdown",
     "metadata": {},
     "source": [
      "Create an initial Python file"
     ]
    },
    {
     "cell_type": "code",
     "collapsed": false,
     "input": [
      "%%file first.py\n",
      "print \"Hello World\"\n",
      "print 3 + 5"
     ],
     "language": "python",
     "metadata": {},
     "outputs": [
      {
       "output_type": "stream",
       "stream": "stdout",
       "text": [
        "Overwriting first.py\n"
       ]
      }
     ],
     "prompt_number": 35
    },
    {
     "cell_type": "markdown",
     "metadata": {},
     "source": [
      "Display the newly created file in the directory"
     ]
    },
    {
     "cell_type": "code",
     "collapsed": false,
     "input": [
      "!ls"
     ],
     "language": "python",
     "metadata": {},
     "outputs": [
      {
       "output_type": "stream",
       "stream": "stdout",
       "text": [
        "Debugging.ipynb  first.py      Input-Output_caching.ipynb   Non-linear SVM.ipynb\tresponsive\t    Vincent_Examples.ipynb\r\n",
        "filename.png\t first.pyc     Managing_Python_files.ipynb  Numpy_arrays.ipynb\t\tslides.xml\t    XML_processing.ipynb\r\n",
        "filename.svg\t ggplot.ipynb  Matplotlib.ipynb\t\t    Rectangle_attributes.ipynb\tSQL_database.ipynb\r\n"
       ]
      }
     ],
     "prompt_number": 36
    },
    {
     "cell_type": "markdown",
     "metadata": {},
     "source": [
      "Load the newly created file into a new cell"
     ]
    },
    {
     "cell_type": "code",
     "collapsed": false,
     "input": [
      "%load first.py"
     ],
     "language": "python",
     "metadata": {},
     "outputs": [],
     "prompt_number": 37
    },
    {
     "cell_type": "code",
     "collapsed": false,
     "input": [
      "print \"Hello World\"\n",
      "print 3 + 5"
     ],
     "language": "python",
     "metadata": {},
     "outputs": []
    },
    {
     "cell_type": "code",
     "collapsed": false,
     "input": [
      "print \"Hello World\"\n",
      "print 3 + 5"
     ],
     "language": "python",
     "metadata": {},
     "outputs": [
      {
       "output_type": "stream",
       "stream": "stdout",
       "text": [
        "Hello World\n",
        "8\n"
       ]
      }
     ],
     "prompt_number": 38
    },
    {
     "cell_type": "markdown",
     "metadata": {},
     "source": [
      "Edit the code in a new cell"
     ]
    },
    {
     "cell_type": "code",
     "collapsed": false,
     "input": [
      "def hello():\n",
      "    print \"Hello World\"\n",
      "    print 3 + 5"
     ],
     "language": "python",
     "metadata": {},
     "outputs": [],
     "prompt_number": 16
    },
    {
     "cell_type": "markdown",
     "metadata": {},
     "source": [
      "## Overwriting the module"
     ]
    },
    {
     "cell_type": "markdown",
     "metadata": {},
     "source": [
      "Save the last input cell to the file overwriting it"
     ]
    },
    {
     "cell_type": "code",
     "collapsed": false,
     "input": [
      "%save -f first.py _i"
     ],
     "language": "python",
     "metadata": {},
     "outputs": [
      {
       "name": "stdout",
       "output_type": "stream",
       "stream": "stdout",
       "text": [
        "File `first.py` exists. Overwrite (y/[N])?  y\n"
       ]
      },
      {
       "output_type": "stream",
       "stream": "stdout",
       "text": [
        "The following commands were written to file `first.py`:\n",
        "def hello():\n",
        "    print \"Hello World\"\n",
        "    print 3 + 5\n"
       ]
      }
     ],
     "prompt_number": 17
    },
    {
     "cell_type": "markdown",
     "metadata": {},
     "source": [
      "Load and execute the file"
     ]
    },
    {
     "cell_type": "code",
     "collapsed": false,
     "input": [
      "%run first.py"
     ],
     "language": "python",
     "metadata": {},
     "outputs": [],
     "prompt_number": 18
    },
    {
     "cell_type": "markdown",
     "metadata": {},
     "source": [
      "Load the file and execute the function"
     ]
    },
    {
     "cell_type": "code",
     "collapsed": false,
     "input": [
      "import first; first.hello()"
     ],
     "language": "python",
     "metadata": {},
     "outputs": [
      {
       "output_type": "stream",
       "stream": "stdout",
       "text": [
        "Hello World\n",
        "8\n"
       ]
      }
     ],
     "prompt_number": 19
    },
    {
     "cell_type": "markdown",
     "metadata": {},
     "source": [
      "## Appending code to the module"
     ]
    },
    {
     "cell_type": "markdown",
     "metadata": {},
     "source": [
      "Create a new function"
     ]
    },
    {
     "cell_type": "code",
     "collapsed": false,
     "input": [
      "def area(x, y):\n",
      "    return x * y"
     ],
     "language": "python",
     "metadata": {},
     "outputs": [],
     "prompt_number": 20
    },
    {
     "cell_type": "markdown",
     "metadata": {},
     "source": [
      "Test the function"
     ]
    },
    {
     "cell_type": "code",
     "collapsed": false,
     "input": [
      "area(3, 4) == 12"
     ],
     "language": "python",
     "metadata": {},
     "outputs": [
      {
       "metadata": {},
       "output_type": "pyout",
       "prompt_number": 21,
       "text": [
        "True"
       ]
      }
     ],
     "prompt_number": 21
    },
    {
     "cell_type": "markdown",
     "metadata": {},
     "source": [
      "Add the new function to the file (second-to-last cell)"
     ]
    },
    {
     "cell_type": "code",
     "collapsed": false,
     "input": [
      "%save -a first.py _ii"
     ],
     "language": "python",
     "metadata": {},
     "outputs": [
      {
       "output_type": "stream",
       "stream": "stdout",
       "text": [
        "The following commands were written to file `first.py`:\n",
        "def area(x, y):\n",
        "    return x * y\n"
       ]
      }
     ],
     "prompt_number": 22
    },
    {
     "cell_type": "markdown",
     "metadata": {},
     "source": [
      "Load the file to see the two functions"
     ]
    },
    {
     "cell_type": "code",
     "collapsed": false,
     "input": [
      "%load first.py"
     ],
     "language": "python",
     "metadata": {},
     "outputs": [],
     "prompt_number": 26
    },
    {
     "cell_type": "code",
     "collapsed": false,
     "input": [
      "def hello():\n",
      "    print \"Hello World\"\n",
      "    print 3 + 5\n",
      "def area(x, y):\n",
      "    return x * y\n"
     ],
     "language": "python",
     "metadata": {},
     "outputs": []
    },
    {
     "cell_type": "code",
     "collapsed": false,
     "input": [
      "def hello():\n",
      "    print \"Hello World\"\n",
      "    print 3 + 5\n",
      "def area(x, y):\n",
      "    return x * y\n"
     ],
     "language": "python",
     "metadata": {},
     "outputs": [],
     "prompt_number": 27
    },
    {
     "cell_type": "code",
     "collapsed": false,
     "input": [
      "print \"Hello World\"\n",
      "print 3 + 5\n",
      "\n",
      "def area(x, y):\n",
      "    return x * y\n"
     ],
     "language": "python",
     "metadata": {},
     "outputs": [
      {
       "output_type": "stream",
       "stream": "stdout",
       "text": [
        "Hello World\n",
        "8\n"
       ]
      }
     ],
     "prompt_number": 28
    },
    {
     "cell_type": "markdown",
     "metadata": {},
     "source": [
      "## Testing the module"
     ]
    },
    {
     "cell_type": "markdown",
     "metadata": {},
     "source": [
      "Add a test function to the file"
     ]
    },
    {
     "cell_type": "code",
     "collapsed": false,
     "input": [
      "%%file -a first.py\n",
      "def test_area():\n",
      "    assert area(3, 4) == 12"
     ],
     "language": "python",
     "metadata": {},
     "outputs": [
      {
       "output_type": "stream",
       "stream": "stdout",
       "text": [
        "Appending to first.py\n"
       ]
      }
     ],
     "prompt_number": 29
    },
    {
     "cell_type": "code",
     "collapsed": false,
     "input": [
      "%load first.py"
     ],
     "language": "python",
     "metadata": {},
     "outputs": [],
     "prompt_number": 30
    },
    {
     "cell_type": "code",
     "collapsed": false,
     "input": [
      "def hello():\n",
      "    print \"Hello World\"\n",
      "    print 3 + 5\n",
      "def area(x, y):\n",
      "    return x * y\n",
      "def test_area():\n",
      "    assert area(3, 4) == 12"
     ],
     "language": "python",
     "metadata": {},
     "outputs": []
    },
    {
     "cell_type": "markdown",
     "metadata": {},
     "source": [
      "Run all the tests in the file (functions whose names starts with test and have no parameters)"
     ]
    },
    {
     "cell_type": "code",
     "collapsed": false,
     "input": [
      "!nosetests first.py"
     ],
     "language": "python",
     "metadata": {},
     "outputs": [
      {
       "output_type": "stream",
       "stream": "stdout",
       "text": [
        ".\r\n",
        "----------------------------------------------------------------------\r\n",
        "Ran 1 test in 0.000s\r\n",
        "\r\n",
        "OK\r\n"
       ]
      }
     ],
     "prompt_number": 31
    },
    {
     "cell_type": "markdown",
     "metadata": {},
     "source": [
      "Each \".\" counts as one test run. To display more detailed output"
     ]
    },
    {
     "cell_type": "code",
     "collapsed": false,
     "input": [
      "!nosetests -v first.py"
     ],
     "language": "python",
     "metadata": {},
     "outputs": [
      {
       "output_type": "stream",
       "stream": "stdout",
       "text": [
        "first.test_area ... ok\r\n",
        "\r\n",
        "----------------------------------------------------------------------\r\n",
        "Ran 1 test in 0.001s\r\n",
        "\r\n",
        "OK\r\n"
       ]
      }
     ],
     "prompt_number": 32
    },
    {
     "cell_type": "code",
     "collapsed": false,
     "input": [
      "%save?"
     ],
     "language": "python",
     "metadata": {},
     "outputs": [],
     "prompt_number": 34
    },
    {
     "cell_type": "code",
     "collapsed": false,
     "input": [],
     "language": "python",
     "metadata": {},
     "outputs": []
    }
   ],
   "metadata": {}
  }
 ]
}