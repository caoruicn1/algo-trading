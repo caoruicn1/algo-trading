{
 "metadata": {
  "name": "",
  "signature": "sha256:d3cff1dc014797f213c462239a1c557d03b4e2e7d7f50728242d4d790a29cd60"
 },
 "nbformat": 3,
 "nbformat_minor": 0,
 "worksheets": [
  {
   "cells": [
    {
     "cell_type": "markdown",
     "metadata": {},
     "source": [
      "[Vincent](https://github.com/wrobstory/vincent) is a Python library used to create [d3](https://github.com/wrobstory/vincent) graphs using [Vega](https://github.com/wrobstory/vincent)"
     ]
    },
    {
     "cell_type": "code",
     "collapsed": false,
     "input": [
      "import vincent\n",
      "import pandas as pd\n",
      "import random\n",
      "\n",
      "vincent.core.initialize_notebook()\n",
      "\n",
      "#Iterable\n",
      "list_data = [10, 20, 30, 20, 15, 30, 45]\n",
      "\n",
      "#Dicts of iterables\n",
      "cat_1 = ['y1', 'y2', 'y3', 'y4']\n",
      "index_1 = range(0, 21, 1)\n",
      "multi_iter1 = {'index': index_1}\n",
      "for cat in cat_1:\n",
      "    multi_iter1[cat] = [random.randint(10, 100) for x in index_1]\n",
      "\n",
      "cat_2 = ['y' + str(x) for x in range(0, 10, 1)]\n",
      "index_2 = range(1, 21, 1)\n",
      "multi_iter2 = {'index': index_2}\n",
      "for cat in cat_2:\n",
      "    multi_iter2[cat] = [random.randint(10, 100) for x in index_2]\n",
      "\n",
      "#Pandas\n",
      "import pandas as pd\n",
      "\n",
      "farm_1 = {'apples': 10, 'berries': 32, 'squash': 21, 'melons': 13, 'corn': 18}\n",
      "farm_2 = {'apples': 15, 'berries': 43, 'squash': 17, 'melons': 10, 'corn': 22}\n",
      "farm_3 = {'apples': 6, 'berries': 24, 'squash': 22, 'melons': 16, 'corn': 30}\n",
      "farm_4 = {'apples': 12, 'berries': 30, 'squash': 15, 'melons': 9, 'corn': 15}\n",
      "\n",
      "farm_data = [farm_1, farm_2, farm_3, farm_4]\n",
      "farm_index = ['Farm 1', 'Farm 2', 'Farm 3', 'Farm 4']\n",
      "df_farm = pd.DataFrame(farm_data, index=farm_index)\n",
      "\n",
      "#As DataFrames\n",
      "index_3 = multi_iter2.pop('index')\n",
      "df_1 = pd.DataFrame(multi_iter2, index=index_3)\n",
      "df_1 = df_1.reindex(columns=sorted(df_1.columns))\n",
      "\n",
      "cat_4 = ['Metric_' + str(x) for x in range(0, 10, 1)]\n",
      "index_4 = ['Data 1', 'Data 2', 'Data 3', 'Data 4']\n",
      "data_3 = {}\n",
      "for cat in cat_4:\n",
      "    data_3[cat] = [random.randint(10, 100) for x in index_4]\n",
      "df_2 = pd.DataFrame(data_3, index=index_4)"
     ],
     "language": "python",
     "metadata": {},
     "outputs": [
      {
       "html": [
        "\n",
        "           <script>\n",
        "               \n",
        "                function vct_load_lib(url, callback){\n",
        "                      if(typeof d3 !== 'undefined' &&\n",
        "                         url === 'http://d3js.org/d3.v3.min.js'){\n",
        "                        callback()\n",
        "                      }\n",
        "                      var s = document.createElement('script');\n",
        "                      s.src = url;\n",
        "                      s.async = true;\n",
        "                      s.onreadystatechange = s.onload = callback;\n",
        "                      s.onerror = function(){\n",
        "                        console.warn(\"failed to load library \" + url);\n",
        "                        };\n",
        "                      document.getElementsByTagName(\"head\")[0].appendChild(s);\n",
        "                };\n",
        "                var vincent_event = new CustomEvent(\n",
        "                  \"vincent_libs_loaded\",\n",
        "                  {bubbles: true, cancelable: true}\n",
        "                );\n",
        "                \n",
        "               function load_all_libs(){\n",
        "                  console.log('Loading Vincent libs...')\n",
        "                  vct_load_lib('http://d3js.org/d3.v3.min.js', function(){\n",
        "                  vct_load_lib('http://d3js.org/d3.geo.projection.v0.min.js', function(){\n",
        "                  vct_load_lib('http://wrobstory.github.io/d3-cloud/d3.layout.cloud.js', function(){\n",
        "                  vct_load_lib('http://wrobstory.github.io/vega/vega.v1.3.3.js', function(){\n",
        "                  window.dispatchEvent(vincent_event);\n",
        "                  });\n",
        "                  });\n",
        "                  });\n",
        "                  });\n",
        "               };\n",
        "               if(typeof define === \"function\" && define.amd){\n",
        "                    if (window['d3'] === undefined ||\n",
        "                        window['topojson'] === undefined){\n",
        "                        require.config(\n",
        "                            {paths: {\n",
        "                              d3: 'http://d3js.org/d3.v3.min',\n",
        "                              topojson: 'http://d3js.org/topojson.v1.min'\n",
        "                              }\n",
        "                            }\n",
        "                          );\n",
        "                        require([\"d3\"], function(d3){\n",
        "                            console.log('Loading Vincent from require.js...')\n",
        "                            window.d3 = d3;\n",
        "                            require([\"topojson\"], function(topojson){\n",
        "                                window.topojson = topojson;\n",
        "                                load_all_libs();\n",
        "                            });\n",
        "                        });\n",
        "                    } else {\n",
        "                        load_all_libs();\n",
        "                    };\n",
        "               }else{\n",
        "                    console.log('Require.js not found, loading manually...')\n",
        "                    load_all_libs();\n",
        "               };\n",
        "\n",
        "           </script>"
       ],
       "metadata": {},
       "output_type": "display_data",
       "text": [
        "<IPython.core.display.HTML at 0x7f0d13c2b690>"
       ]
      }
     ],
     "prompt_number": 18
    },
    {
     "cell_type": "code",
     "collapsed": false,
     "input": [
      "bar = vincent.Bar(multi_iter1['y1'])\n",
      "bar.axis_titles(x='Index', y='Value')\n",
      "#print bar.to_json()\n",
      "bar.display()"
     ],
     "language": "python",
     "metadata": {},
     "outputs": [
      {
       "html": [
        "<div id=\"vis8cf21722afcb4707a44670898c31d720\"></div>\n",
        "<script>\n",
        "   ( function() {\n",
        "     var _do_plot = function() {\n",
        "       if (typeof vg === 'undefined') {\n",
        "         window.addEventListener('vincent_libs_loaded', _do_plot)\n",
        "         return;\n",
        "       }\n",
        "       vg.parse.spec({\"axes\": [{\"scale\": \"x\", \"title\": \"Index\", \"type\": \"x\"}, {\"scale\": \"y\", \"title\": \"Value\", \"type\": \"y\"}], \"data\": [{\"name\": \"table\", \"values\": [{\"col\": \"data\", \"idx\": 0, \"val\": 64}, {\"col\": \"data\", \"idx\": 1, \"val\": 27}, {\"col\": \"data\", \"idx\": 2, \"val\": 22}, {\"col\": \"data\", \"idx\": 3, \"val\": 62}, {\"col\": \"data\", \"idx\": 4, \"val\": 26}, {\"col\": \"data\", \"idx\": 5, \"val\": 75}, {\"col\": \"data\", \"idx\": 6, \"val\": 79}, {\"col\": \"data\", \"idx\": 7, \"val\": 61}, {\"col\": \"data\", \"idx\": 8, \"val\": 20}, {\"col\": \"data\", \"idx\": 9, \"val\": 73}, {\"col\": \"data\", \"idx\": 10, \"val\": 28}, {\"col\": \"data\", \"idx\": 11, \"val\": 16}, {\"col\": \"data\", \"idx\": 12, \"val\": 50}, {\"col\": \"data\", \"idx\": 13, \"val\": 100}, {\"col\": \"data\", \"idx\": 14, \"val\": 87}, {\"col\": \"data\", \"idx\": 15, \"val\": 79}, {\"col\": \"data\", \"idx\": 16, \"val\": 49}, {\"col\": \"data\", \"idx\": 17, \"val\": 77}, {\"col\": \"data\", \"idx\": 18, \"val\": 17}, {\"col\": \"data\", \"idx\": 19, \"val\": 34}, {\"col\": \"data\", \"idx\": 20, \"val\": 71}]}, {\"name\": \"stats\", \"source\": \"table\", \"transform\": [{\"keys\": [\"data.idx\"], \"type\": \"facet\"}, {\"type\": \"stats\", \"value\": \"data.val\"}]}], \"height\": 500, \"legends\": [], \"marks\": [{\"from\": {\"data\": \"table\", \"transform\": [{\"keys\": [\"data.col\"], \"type\": \"facet\"}, {\"height\": \"data.val\", \"point\": \"data.idx\", \"type\": \"stack\"}]}, \"marks\": [{\"properties\": {\"enter\": {\"fill\": {\"field\": \"data.col\", \"scale\": \"color\"}, \"width\": {\"band\": true, \"offset\": -1, \"scale\": \"x\"}, \"x\": {\"field\": \"data.idx\", \"scale\": \"x\"}, \"y\": {\"field\": \"y\", \"scale\": \"y\"}, \"y2\": {\"field\": \"y2\", \"scale\": \"y\"}}}, \"type\": \"rect\"}], \"type\": \"group\"}], \"padding\": \"auto\", \"scales\": [{\"domain\": {\"data\": \"table\", \"field\": \"data.idx\"}, \"name\": \"x\", \"range\": \"width\", \"type\": \"ordinal\", \"zero\": false}, {\"domain\": {\"data\": \"stats\", \"field\": \"sum\"}, \"name\": \"y\", \"nice\": true, \"range\": \"height\"}, {\"domain\": {\"data\": \"table\", \"field\": \"data.col\"}, \"name\": \"color\", \"range\": \"category20\", \"type\": \"ordinal\"}], \"width\": 960}, function(chart) {\n",
        "         chart({el: \"#vis8cf21722afcb4707a44670898c31d720\"}).update();\n",
        "       });\n",
        "     };\n",
        "     _do_plot();\n",
        "   })();\n",
        "</script>\n",
        "<style>.vega canvas {width: 100%;}</style>\n",
        "        "
       ],
       "metadata": {},
       "output_type": "display_data",
       "text": [
        "<IPython.core.display.HTML at 0x7f0d26dd8150>"
       ]
      }
     ],
     "prompt_number": 19
    },
    {
     "cell_type": "code",
     "collapsed": false,
     "input": [
      "line = vincent.Line(multi_iter1, iter_idx='index')\n",
      "line.axis_titles(x='Index', y='Value')\n",
      "line.legend(title='Categories')\n",
      "line.display()"
     ],
     "language": "python",
     "metadata": {},
     "outputs": [
      {
       "html": [
        "<div id=\"vis86ff0460819646778293cc5ec5a8e392\"></div>\n",
        "<script>\n",
        "   ( function() {\n",
        "     var _do_plot = function() {\n",
        "       if (typeof vg === 'undefined') {\n",
        "         window.addEventListener('vincent_libs_loaded', _do_plot)\n",
        "         return;\n",
        "       }\n",
        "       vg.parse.spec({\"axes\": [{\"scale\": \"x\", \"title\": \"Index\", \"type\": \"x\"}, {\"scale\": \"y\", \"title\": \"Value\", \"type\": \"y\"}], \"data\": [{\"name\": \"table\", \"values\": [{\"col\": \"y1\", \"idx\": 0, \"val\": 64}, {\"col\": \"y1\", \"idx\": 1, \"val\": 27}, {\"col\": \"y1\", \"idx\": 2, \"val\": 22}, {\"col\": \"y1\", \"idx\": 3, \"val\": 62}, {\"col\": \"y1\", \"idx\": 4, \"val\": 26}, {\"col\": \"y1\", \"idx\": 5, \"val\": 75}, {\"col\": \"y1\", \"idx\": 6, \"val\": 79}, {\"col\": \"y1\", \"idx\": 7, \"val\": 61}, {\"col\": \"y1\", \"idx\": 8, \"val\": 20}, {\"col\": \"y1\", \"idx\": 9, \"val\": 73}, {\"col\": \"y1\", \"idx\": 10, \"val\": 28}, {\"col\": \"y1\", \"idx\": 11, \"val\": 16}, {\"col\": \"y1\", \"idx\": 12, \"val\": 50}, {\"col\": \"y1\", \"idx\": 13, \"val\": 100}, {\"col\": \"y1\", \"idx\": 14, \"val\": 87}, {\"col\": \"y1\", \"idx\": 15, \"val\": 79}, {\"col\": \"y1\", \"idx\": 16, \"val\": 49}, {\"col\": \"y1\", \"idx\": 17, \"val\": 77}, {\"col\": \"y1\", \"idx\": 18, \"val\": 17}, {\"col\": \"y1\", \"idx\": 19, \"val\": 34}, {\"col\": \"y1\", \"idx\": 20, \"val\": 71}, {\"col\": \"y2\", \"idx\": 0, \"val\": 48}, {\"col\": \"y2\", \"idx\": 1, \"val\": 52}, {\"col\": \"y2\", \"idx\": 2, \"val\": 84}, {\"col\": \"y2\", \"idx\": 3, \"val\": 54}, {\"col\": \"y2\", \"idx\": 4, \"val\": 70}, {\"col\": \"y2\", \"idx\": 5, \"val\": 41}, {\"col\": \"y2\", \"idx\": 6, \"val\": 50}, {\"col\": \"y2\", \"idx\": 7, \"val\": 20}, {\"col\": \"y2\", \"idx\": 8, \"val\": 71}, {\"col\": \"y2\", \"idx\": 9, \"val\": 21}, {\"col\": \"y2\", \"idx\": 10, \"val\": 44}, {\"col\": \"y2\", \"idx\": 11, \"val\": 89}, {\"col\": \"y2\", \"idx\": 12, \"val\": 55}, {\"col\": \"y2\", \"idx\": 13, \"val\": 34}, {\"col\": \"y2\", \"idx\": 14, \"val\": 88}, {\"col\": \"y2\", \"idx\": 15, \"val\": 88}, {\"col\": \"y2\", \"idx\": 16, \"val\": 58}, {\"col\": \"y2\", \"idx\": 17, \"val\": 52}, {\"col\": \"y2\", \"idx\": 18, \"val\": 13}, {\"col\": \"y2\", \"idx\": 19, \"val\": 37}, {\"col\": \"y2\", \"idx\": 20, \"val\": 44}, {\"col\": \"y3\", \"idx\": 0, \"val\": 55}, {\"col\": \"y3\", \"idx\": 1, \"val\": 54}, {\"col\": \"y3\", \"idx\": 2, \"val\": 54}, {\"col\": \"y3\", \"idx\": 3, \"val\": 66}, {\"col\": \"y3\", \"idx\": 4, \"val\": 44}, {\"col\": \"y3\", \"idx\": 5, \"val\": 99}, {\"col\": \"y3\", \"idx\": 6, \"val\": 62}, {\"col\": \"y3\", \"idx\": 7, \"val\": 83}, {\"col\": \"y3\", \"idx\": 8, \"val\": 67}, {\"col\": \"y3\", \"idx\": 9, \"val\": 10}, {\"col\": \"y3\", \"idx\": 10, \"val\": 49}, {\"col\": \"y3\", \"idx\": 11, \"val\": 53}, {\"col\": \"y3\", \"idx\": 12, \"val\": 27}, {\"col\": \"y3\", \"idx\": 13, \"val\": 45}, {\"col\": \"y3\", \"idx\": 14, \"val\": 89}, {\"col\": \"y3\", \"idx\": 15, \"val\": 44}, {\"col\": \"y3\", \"idx\": 16, \"val\": 81}, {\"col\": \"y3\", \"idx\": 17, \"val\": 44}, {\"col\": \"y3\", \"idx\": 18, \"val\": 50}, {\"col\": \"y3\", \"idx\": 19, \"val\": 89}, {\"col\": \"y3\", \"idx\": 20, \"val\": 62}, {\"col\": \"y4\", \"idx\": 0, \"val\": 35}, {\"col\": \"y4\", \"idx\": 1, \"val\": 33}, {\"col\": \"y4\", \"idx\": 2, \"val\": 99}, {\"col\": \"y4\", \"idx\": 3, \"val\": 42}, {\"col\": \"y4\", \"idx\": 4, \"val\": 28}, {\"col\": \"y4\", \"idx\": 5, \"val\": 51}, {\"col\": \"y4\", \"idx\": 6, \"val\": 84}, {\"col\": \"y4\", \"idx\": 7, \"val\": 96}, {\"col\": \"y4\", \"idx\": 8, \"val\": 57}, {\"col\": \"y4\", \"idx\": 9, \"val\": 96}, {\"col\": \"y4\", \"idx\": 10, \"val\": 27}, {\"col\": \"y4\", \"idx\": 11, \"val\": 40}, {\"col\": \"y4\", \"idx\": 12, \"val\": 98}, {\"col\": \"y4\", \"idx\": 13, \"val\": 63}, {\"col\": \"y4\", \"idx\": 14, \"val\": 78}, {\"col\": \"y4\", \"idx\": 15, \"val\": 52}, {\"col\": \"y4\", \"idx\": 16, \"val\": 59}, {\"col\": \"y4\", \"idx\": 17, \"val\": 51}, {\"col\": \"y4\", \"idx\": 18, \"val\": 21}, {\"col\": \"y4\", \"idx\": 19, \"val\": 39}, {\"col\": \"y4\", \"idx\": 20, \"val\": 56}]}], \"height\": 500, \"legends\": [{\"fill\": \"color\", \"offset\": 0, \"properties\": {}, \"title\": \"Categories\"}], \"marks\": [{\"from\": {\"data\": \"table\", \"transform\": [{\"keys\": [\"data.col\"], \"type\": \"facet\"}]}, \"marks\": [{\"properties\": {\"enter\": {\"stroke\": {\"field\": \"data.col\", \"scale\": \"color\"}, \"strokeWidth\": {\"value\": 2}, \"x\": {\"field\": \"data.idx\", \"scale\": \"x\"}, \"y\": {\"field\": \"data.val\", \"scale\": \"y\"}}}, \"type\": \"line\"}], \"type\": \"group\"}], \"padding\": \"auto\", \"scales\": [{\"domain\": {\"data\": \"table\", \"field\": \"data.idx\"}, \"name\": \"x\", \"range\": \"width\", \"type\": \"linear\"}, {\"domain\": {\"data\": \"table\", \"field\": \"data.val\"}, \"name\": \"y\", \"nice\": true, \"range\": \"height\"}, {\"domain\": {\"data\": \"table\", \"field\": \"data.col\"}, \"name\": \"color\", \"range\": \"category20\", \"type\": \"ordinal\"}], \"width\": 960}, function(chart) {\n",
        "         chart({el: \"#vis86ff0460819646778293cc5ec5a8e392\"}).update();\n",
        "       });\n",
        "     };\n",
        "     _do_plot();\n",
        "   })();\n",
        "</script>\n",
        "<style>.vega canvas {width: 100%;}</style>\n",
        "        "
       ],
       "metadata": {},
       "output_type": "display_data",
       "text": [
        "<IPython.core.display.HTML at 0x7f0d15c8ec90>"
       ]
      }
     ],
     "prompt_number": 20
    },
    {
     "cell_type": "code",
     "collapsed": false,
     "input": [
      "scatter = vincent.Scatter(df_1)\n",
      "scatter.axis_titles(x='Index', y='Data Value')\n",
      "scatter.legend(title='Categories')\n",
      "scatter.colors(brew='Set3')\n",
      "scatter.display()"
     ],
     "language": "python",
     "metadata": {},
     "outputs": [
      {
       "html": [
        "<div id=\"vis0d8fef828ca94c33b0644741ef1abb10\"></div>\n",
        "<script>\n",
        "   ( function() {\n",
        "     var _do_plot = function() {\n",
        "       if (typeof vg === 'undefined') {\n",
        "         window.addEventListener('vincent_libs_loaded', _do_plot)\n",
        "         return;\n",
        "       }\n",
        "       vg.parse.spec({\"axes\": [{\"scale\": \"x\", \"title\": \"Index\", \"type\": \"x\"}, {\"scale\": \"y\", \"title\": \"Data Value\", \"type\": \"y\"}], \"data\": [{\"name\": \"table\", \"values\": [{\"col\": \"y0\", \"idx\": 1, \"val\": 91}, {\"col\": \"y1\", \"idx\": 1, \"val\": 80}, {\"col\": \"y2\", \"idx\": 1, \"val\": 95}, {\"col\": \"y3\", \"idx\": 1, \"val\": 91}, {\"col\": \"y4\", \"idx\": 1, \"val\": 64}, {\"col\": \"y5\", \"idx\": 1, \"val\": 51}, {\"col\": \"y6\", \"idx\": 1, \"val\": 66}, {\"col\": \"y7\", \"idx\": 1, \"val\": 28}, {\"col\": \"y8\", \"idx\": 1, \"val\": 80}, {\"col\": \"y9\", \"idx\": 1, \"val\": 36}, {\"col\": \"y0\", \"idx\": 2, \"val\": 23}, {\"col\": \"y1\", \"idx\": 2, \"val\": 31}, {\"col\": \"y2\", \"idx\": 2, \"val\": 100}, {\"col\": \"y3\", \"idx\": 2, \"val\": 33}, {\"col\": \"y4\", \"idx\": 2, \"val\": 95}, {\"col\": \"y5\", \"idx\": 2, \"val\": 60}, {\"col\": \"y6\", \"idx\": 2, \"val\": 26}, {\"col\": \"y7\", \"idx\": 2, \"val\": 78}, {\"col\": \"y8\", \"idx\": 2, \"val\": 96}, {\"col\": \"y9\", \"idx\": 2, \"val\": 18}, {\"col\": \"y0\", \"idx\": 3, \"val\": 52}, {\"col\": \"y1\", \"idx\": 3, \"val\": 71}, {\"col\": \"y2\", \"idx\": 3, \"val\": 74}, {\"col\": \"y3\", \"idx\": 3, \"val\": 41}, {\"col\": \"y4\", \"idx\": 3, \"val\": 74}, {\"col\": \"y5\", \"idx\": 3, \"val\": 96}, {\"col\": \"y6\", \"idx\": 3, \"val\": 62}, {\"col\": \"y7\", \"idx\": 3, \"val\": 86}, {\"col\": \"y8\", \"idx\": 3, \"val\": 28}, {\"col\": \"y9\", \"idx\": 3, \"val\": 98}, {\"col\": \"y0\", \"idx\": 4, \"val\": 19}, {\"col\": \"y1\", \"idx\": 4, \"val\": 46}, {\"col\": \"y2\", \"idx\": 4, \"val\": 84}, {\"col\": \"y3\", \"idx\": 4, \"val\": 94}, {\"col\": \"y4\", \"idx\": 4, \"val\": 77}, {\"col\": \"y5\", \"idx\": 4, \"val\": 65}, {\"col\": \"y6\", \"idx\": 4, \"val\": 68}, {\"col\": \"y7\", \"idx\": 4, \"val\": 43}, {\"col\": \"y8\", \"idx\": 4, \"val\": 86}, {\"col\": \"y9\", \"idx\": 4, \"val\": 46}, {\"col\": \"y0\", \"idx\": 5, \"val\": 72}, {\"col\": \"y1\", \"idx\": 5, \"val\": 64}, {\"col\": \"y2\", \"idx\": 5, \"val\": 56}, {\"col\": \"y3\", \"idx\": 5, \"val\": 27}, {\"col\": \"y4\", \"idx\": 5, \"val\": 71}, {\"col\": \"y5\", \"idx\": 5, \"val\": 39}, {\"col\": \"y6\", \"idx\": 5, \"val\": 88}, {\"col\": \"y7\", \"idx\": 5, \"val\": 91}, {\"col\": \"y8\", \"idx\": 5, \"val\": 68}, {\"col\": \"y9\", \"idx\": 5, \"val\": 23}, {\"col\": \"y0\", \"idx\": 6, \"val\": 65}, {\"col\": \"y1\", \"idx\": 6, \"val\": 52}, {\"col\": \"y2\", \"idx\": 6, \"val\": 44}, {\"col\": \"y3\", \"idx\": 6, \"val\": 63}, {\"col\": \"y4\", \"idx\": 6, \"val\": 95}, {\"col\": \"y5\", \"idx\": 6, \"val\": 51}, {\"col\": \"y6\", \"idx\": 6, \"val\": 34}, {\"col\": \"y7\", \"idx\": 6, \"val\": 37}, {\"col\": \"y8\", \"idx\": 6, \"val\": 42}, {\"col\": \"y9\", \"idx\": 6, \"val\": 80}, {\"col\": \"y0\", \"idx\": 7, \"val\": 100}, {\"col\": \"y1\", \"idx\": 7, \"val\": 32}, {\"col\": \"y2\", \"idx\": 7, \"val\": 73}, {\"col\": \"y3\", \"idx\": 7, \"val\": 77}, {\"col\": \"y4\", \"idx\": 7, \"val\": 95}, {\"col\": \"y5\", \"idx\": 7, \"val\": 16}, {\"col\": \"y6\", \"idx\": 7, \"val\": 28}, {\"col\": \"y7\", \"idx\": 7, \"val\": 47}, {\"col\": \"y8\", \"idx\": 7, \"val\": 24}, {\"col\": \"y9\", \"idx\": 7, \"val\": 83}, {\"col\": \"y0\", \"idx\": 8, \"val\": 97}, {\"col\": \"y1\", \"idx\": 8, \"val\": 80}, {\"col\": \"y2\", \"idx\": 8, \"val\": 82}, {\"col\": \"y3\", \"idx\": 8, \"val\": 86}, {\"col\": \"y4\", \"idx\": 8, \"val\": 94}, {\"col\": \"y5\", \"idx\": 8, \"val\": 28}, {\"col\": \"y6\", \"idx\": 8, \"val\": 68}, {\"col\": \"y7\", \"idx\": 8, \"val\": 12}, {\"col\": \"y8\", \"idx\": 8, \"val\": 40}, {\"col\": \"y9\", \"idx\": 8, \"val\": 93}, {\"col\": \"y0\", \"idx\": 9, \"val\": 15}, {\"col\": \"y1\", \"idx\": 9, \"val\": 19}, {\"col\": \"y2\", \"idx\": 9, \"val\": 87}, {\"col\": \"y3\", \"idx\": 9, \"val\": 61}, {\"col\": \"y4\", \"idx\": 9, \"val\": 91}, {\"col\": \"y5\", \"idx\": 9, \"val\": 40}, {\"col\": \"y6\", \"idx\": 9, \"val\": 53}, {\"col\": \"y7\", \"idx\": 9, \"val\": 40}, {\"col\": \"y8\", \"idx\": 9, \"val\": 20}, {\"col\": \"y9\", \"idx\": 9, \"val\": 52}, {\"col\": \"y0\", \"idx\": 10, \"val\": 25}, {\"col\": \"y1\", \"idx\": 10, \"val\": 99}, {\"col\": \"y2\", \"idx\": 10, \"val\": 33}, {\"col\": \"y3\", \"idx\": 10, \"val\": 98}, {\"col\": \"y4\", \"idx\": 10, \"val\": 82}, {\"col\": \"y5\", \"idx\": 10, \"val\": 41}, {\"col\": \"y6\", \"idx\": 10, \"val\": 58}, {\"col\": \"y7\", \"idx\": 10, \"val\": 34}, {\"col\": \"y8\", \"idx\": 10, \"val\": 78}, {\"col\": \"y9\", \"idx\": 10, \"val\": 38}, {\"col\": \"y0\", \"idx\": 11, \"val\": 86}, {\"col\": \"y1\", \"idx\": 11, \"val\": 86}, {\"col\": \"y2\", \"idx\": 11, \"val\": 44}, {\"col\": \"y3\", \"idx\": 11, \"val\": 41}, {\"col\": \"y4\", \"idx\": 11, \"val\": 31}, {\"col\": \"y5\", \"idx\": 11, \"val\": 99}, {\"col\": \"y6\", \"idx\": 11, \"val\": 89}, {\"col\": \"y7\", \"idx\": 11, \"val\": 68}, {\"col\": \"y8\", \"idx\": 11, \"val\": 44}, {\"col\": \"y9\", \"idx\": 11, \"val\": 76}, {\"col\": \"y0\", \"idx\": 12, \"val\": 26}, {\"col\": \"y1\", \"idx\": 12, \"val\": 57}, {\"col\": \"y2\", \"idx\": 12, \"val\": 74}, {\"col\": \"y3\", \"idx\": 12, \"val\": 73}, {\"col\": \"y4\", \"idx\": 12, \"val\": 40}, {\"col\": \"y5\", \"idx\": 12, \"val\": 19}, {\"col\": \"y6\", \"idx\": 12, \"val\": 32}, {\"col\": \"y7\", \"idx\": 12, \"val\": 34}, {\"col\": \"y8\", \"idx\": 12, \"val\": 19}, {\"col\": \"y9\", \"idx\": 12, \"val\": 92}, {\"col\": \"y0\", \"idx\": 13, \"val\": 63}, {\"col\": \"y1\", \"idx\": 13, \"val\": 11}, {\"col\": \"y2\", \"idx\": 13, \"val\": 100}, {\"col\": \"y3\", \"idx\": 13, \"val\": 79}, {\"col\": \"y4\", \"idx\": 13, \"val\": 100}, {\"col\": \"y5\", \"idx\": 13, \"val\": 70}, {\"col\": \"y6\", \"idx\": 13, \"val\": 11}, {\"col\": \"y7\", \"idx\": 13, \"val\": 30}, {\"col\": \"y8\", \"idx\": 13, \"val\": 77}, {\"col\": \"y9\", \"idx\": 13, \"val\": 64}, {\"col\": \"y0\", \"idx\": 14, \"val\": 90}, {\"col\": \"y1\", \"idx\": 14, \"val\": 32}, {\"col\": \"y2\", \"idx\": 14, \"val\": 17}, {\"col\": \"y3\", \"idx\": 14, \"val\": 16}, {\"col\": \"y4\", \"idx\": 14, \"val\": 46}, {\"col\": \"y5\", \"idx\": 14, \"val\": 98}, {\"col\": \"y6\", \"idx\": 14, \"val\": 52}, {\"col\": \"y7\", \"idx\": 14, \"val\": 68}, {\"col\": \"y8\", \"idx\": 14, \"val\": 37}, {\"col\": \"y9\", \"idx\": 14, \"val\": 10}, {\"col\": \"y0\", \"idx\": 15, \"val\": 38}, {\"col\": \"y1\", \"idx\": 15, \"val\": 15}, {\"col\": \"y2\", \"idx\": 15, \"val\": 88}, {\"col\": \"y3\", \"idx\": 15, \"val\": 59}, {\"col\": \"y4\", \"idx\": 15, \"val\": 46}, {\"col\": \"y5\", \"idx\": 15, \"val\": 45}, {\"col\": \"y6\", \"idx\": 15, \"val\": 46}, {\"col\": \"y7\", \"idx\": 15, \"val\": 69}, {\"col\": \"y8\", \"idx\": 15, \"val\": 79}, {\"col\": \"y9\", \"idx\": 15, \"val\": 58}, {\"col\": \"y0\", \"idx\": 16, \"val\": 77}, {\"col\": \"y1\", \"idx\": 16, \"val\": 39}, {\"col\": \"y2\", \"idx\": 16, \"val\": 64}, {\"col\": \"y3\", \"idx\": 16, \"val\": 46}, {\"col\": \"y4\", \"idx\": 16, \"val\": 32}, {\"col\": \"y5\", \"idx\": 16, \"val\": 100}, {\"col\": \"y6\", \"idx\": 16, \"val\": 35}, {\"col\": \"y7\", \"idx\": 16, \"val\": 53}, {\"col\": \"y8\", \"idx\": 16, \"val\": 32}, {\"col\": \"y9\", \"idx\": 16, \"val\": 68}, {\"col\": \"y0\", \"idx\": 17, \"val\": 81}, {\"col\": \"y1\", \"idx\": 17, \"val\": 67}, {\"col\": \"y2\", \"idx\": 17, \"val\": 49}, {\"col\": \"y3\", \"idx\": 17, \"val\": 15}, {\"col\": \"y4\", \"idx\": 17, \"val\": 74}, {\"col\": \"y5\", \"idx\": 17, \"val\": 76}, {\"col\": \"y6\", \"idx\": 17, \"val\": 100}, {\"col\": \"y7\", \"idx\": 17, \"val\": 68}, {\"col\": \"y8\", \"idx\": 17, \"val\": 22}, {\"col\": \"y9\", \"idx\": 17, \"val\": 77}, {\"col\": \"y0\", \"idx\": 18, \"val\": 94}, {\"col\": \"y1\", \"idx\": 18, \"val\": 23}, {\"col\": \"y2\", \"idx\": 18, \"val\": 29}, {\"col\": \"y3\", \"idx\": 18, \"val\": 39}, {\"col\": \"y4\", \"idx\": 18, \"val\": 13}, {\"col\": \"y5\", \"idx\": 18, \"val\": 20}, {\"col\": \"y6\", \"idx\": 18, \"val\": 62}, {\"col\": \"y7\", \"idx\": 18, \"val\": 90}, {\"col\": \"y8\", \"idx\": 18, \"val\": 47}, {\"col\": \"y9\", \"idx\": 18, \"val\": 31}, {\"col\": \"y0\", \"idx\": 19, \"val\": 56}, {\"col\": \"y1\", \"idx\": 19, \"val\": 23}, {\"col\": \"y2\", \"idx\": 19, \"val\": 92}, {\"col\": \"y3\", \"idx\": 19, \"val\": 26}, {\"col\": \"y4\", \"idx\": 19, \"val\": 91}, {\"col\": \"y5\", \"idx\": 19, \"val\": 71}, {\"col\": \"y6\", \"idx\": 19, \"val\": 12}, {\"col\": \"y7\", \"idx\": 19, \"val\": 60}, {\"col\": \"y8\", \"idx\": 19, \"val\": 93}, {\"col\": \"y9\", \"idx\": 19, \"val\": 87}, {\"col\": \"y0\", \"idx\": 20, \"val\": 32}, {\"col\": \"y1\", \"idx\": 20, \"val\": 70}, {\"col\": \"y2\", \"idx\": 20, \"val\": 89}, {\"col\": \"y3\", \"idx\": 20, \"val\": 90}, {\"col\": \"y4\", \"idx\": 20, \"val\": 40}, {\"col\": \"y5\", \"idx\": 20, \"val\": 50}, {\"col\": \"y6\", \"idx\": 20, \"val\": 94}, {\"col\": \"y7\", \"idx\": 20, \"val\": 73}, {\"col\": \"y8\", \"idx\": 20, \"val\": 30}, {\"col\": \"y9\", \"idx\": 20, \"val\": 49}]}], \"height\": 500, \"legends\": [{\"fill\": \"color\", \"offset\": 0, \"properties\": {}, \"title\": \"Categories\"}], \"marks\": [{\"from\": {\"data\": \"table\", \"transform\": [{\"keys\": [\"data.col\"], \"type\": \"facet\"}]}, \"marks\": [{\"properties\": {\"enter\": {\"fill\": {\"field\": \"data.col\", \"scale\": \"color\"}, \"size\": {\"value\": 100}, \"x\": {\"field\": \"data.idx\", \"scale\": \"x\"}, \"y\": {\"field\": \"data.val\", \"scale\": \"y\"}}}, \"type\": \"symbol\"}], \"type\": \"group\"}], \"padding\": \"auto\", \"scales\": [{\"domain\": {\"data\": \"table\", \"field\": \"data.idx\"}, \"name\": \"x\", \"range\": \"width\", \"type\": \"linear\"}, {\"domain\": {\"data\": \"table\", \"field\": \"data.val\"}, \"name\": \"y\", \"nice\": true, \"range\": \"height\"}, {\"domain\": {\"data\": \"table\", \"field\": \"data.col\"}, \"name\": \"color\", \"range\": [\"#8dd3c7\", \"#ffffb3\", \"#bebada\", \"#fb8072\", \"#80b1d3\", \"#fdb462\", \"#b3de69\", \"#fccde5\", \"#d9d9d9\", \"#bc80bd\", \"#ccebc5\", \"#ffed6f\"], \"type\": \"ordinal\"}], \"width\": 960}, function(chart) {\n",
        "         chart({el: \"#vis0d8fef828ca94c33b0644741ef1abb10\"}).update();\n",
        "       });\n",
        "     };\n",
        "     _do_plot();\n",
        "   })();\n",
        "</script>\n",
        "<style>.vega canvas {width: 100%;}</style>\n",
        "        "
       ],
       "metadata": {},
       "output_type": "display_data",
       "text": [
        "<IPython.core.display.HTML at 0x7f0d13c918d0>"
       ]
      }
     ],
     "prompt_number": 21
    },
    {
     "cell_type": "code",
     "collapsed": false,
     "input": [
      "stacked = vincent.StackedArea(df_1)\n",
      "stacked.axis_titles(x='Index', y='Value')\n",
      "stacked.legend(title='Categories')\n",
      "stacked.colors(brew='Spectral')\n",
      "stacked.display()"
     ],
     "language": "python",
     "metadata": {},
     "outputs": [
      {
       "html": [
        "<div id=\"visacef4022d052408cbdb2ee23a5bc1812\"></div>\n",
        "<script>\n",
        "   ( function() {\n",
        "     var _do_plot = function() {\n",
        "       if (typeof vg === 'undefined') {\n",
        "         window.addEventListener('vincent_libs_loaded', _do_plot)\n",
        "         return;\n",
        "       }\n",
        "       vg.parse.spec({\"axes\": [{\"scale\": \"x\", \"title\": \"Index\", \"type\": \"x\"}, {\"scale\": \"y\", \"title\": \"Value\", \"type\": \"y\"}], \"data\": [{\"name\": \"table\", \"values\": [{\"col\": \"y0\", \"idx\": 1, \"val\": 91}, {\"col\": \"y1\", \"idx\": 1, \"val\": 80}, {\"col\": \"y2\", \"idx\": 1, \"val\": 95}, {\"col\": \"y3\", \"idx\": 1, \"val\": 91}, {\"col\": \"y4\", \"idx\": 1, \"val\": 64}, {\"col\": \"y5\", \"idx\": 1, \"val\": 51}, {\"col\": \"y6\", \"idx\": 1, \"val\": 66}, {\"col\": \"y7\", \"idx\": 1, \"val\": 28}, {\"col\": \"y8\", \"idx\": 1, \"val\": 80}, {\"col\": \"y9\", \"idx\": 1, \"val\": 36}, {\"col\": \"y0\", \"idx\": 2, \"val\": 23}, {\"col\": \"y1\", \"idx\": 2, \"val\": 31}, {\"col\": \"y2\", \"idx\": 2, \"val\": 100}, {\"col\": \"y3\", \"idx\": 2, \"val\": 33}, {\"col\": \"y4\", \"idx\": 2, \"val\": 95}, {\"col\": \"y5\", \"idx\": 2, \"val\": 60}, {\"col\": \"y6\", \"idx\": 2, \"val\": 26}, {\"col\": \"y7\", \"idx\": 2, \"val\": 78}, {\"col\": \"y8\", \"idx\": 2, \"val\": 96}, {\"col\": \"y9\", \"idx\": 2, \"val\": 18}, {\"col\": \"y0\", \"idx\": 3, \"val\": 52}, {\"col\": \"y1\", \"idx\": 3, \"val\": 71}, {\"col\": \"y2\", \"idx\": 3, \"val\": 74}, {\"col\": \"y3\", \"idx\": 3, \"val\": 41}, {\"col\": \"y4\", \"idx\": 3, \"val\": 74}, {\"col\": \"y5\", \"idx\": 3, \"val\": 96}, {\"col\": \"y6\", \"idx\": 3, \"val\": 62}, {\"col\": \"y7\", \"idx\": 3, \"val\": 86}, {\"col\": \"y8\", \"idx\": 3, \"val\": 28}, {\"col\": \"y9\", \"idx\": 3, \"val\": 98}, {\"col\": \"y0\", \"idx\": 4, \"val\": 19}, {\"col\": \"y1\", \"idx\": 4, \"val\": 46}, {\"col\": \"y2\", \"idx\": 4, \"val\": 84}, {\"col\": \"y3\", \"idx\": 4, \"val\": 94}, {\"col\": \"y4\", \"idx\": 4, \"val\": 77}, {\"col\": \"y5\", \"idx\": 4, \"val\": 65}, {\"col\": \"y6\", \"idx\": 4, \"val\": 68}, {\"col\": \"y7\", \"idx\": 4, \"val\": 43}, {\"col\": \"y8\", \"idx\": 4, \"val\": 86}, {\"col\": \"y9\", \"idx\": 4, \"val\": 46}, {\"col\": \"y0\", \"idx\": 5, \"val\": 72}, {\"col\": \"y1\", \"idx\": 5, \"val\": 64}, {\"col\": \"y2\", \"idx\": 5, \"val\": 56}, {\"col\": \"y3\", \"idx\": 5, \"val\": 27}, {\"col\": \"y4\", \"idx\": 5, \"val\": 71}, {\"col\": \"y5\", \"idx\": 5, \"val\": 39}, {\"col\": \"y6\", \"idx\": 5, \"val\": 88}, {\"col\": \"y7\", \"idx\": 5, \"val\": 91}, {\"col\": \"y8\", \"idx\": 5, \"val\": 68}, {\"col\": \"y9\", \"idx\": 5, \"val\": 23}, {\"col\": \"y0\", \"idx\": 6, \"val\": 65}, {\"col\": \"y1\", \"idx\": 6, \"val\": 52}, {\"col\": \"y2\", \"idx\": 6, \"val\": 44}, {\"col\": \"y3\", \"idx\": 6, \"val\": 63}, {\"col\": \"y4\", \"idx\": 6, \"val\": 95}, {\"col\": \"y5\", \"idx\": 6, \"val\": 51}, {\"col\": \"y6\", \"idx\": 6, \"val\": 34}, {\"col\": \"y7\", \"idx\": 6, \"val\": 37}, {\"col\": \"y8\", \"idx\": 6, \"val\": 42}, {\"col\": \"y9\", \"idx\": 6, \"val\": 80}, {\"col\": \"y0\", \"idx\": 7, \"val\": 100}, {\"col\": \"y1\", \"idx\": 7, \"val\": 32}, {\"col\": \"y2\", \"idx\": 7, \"val\": 73}, {\"col\": \"y3\", \"idx\": 7, \"val\": 77}, {\"col\": \"y4\", \"idx\": 7, \"val\": 95}, {\"col\": \"y5\", \"idx\": 7, \"val\": 16}, {\"col\": \"y6\", \"idx\": 7, \"val\": 28}, {\"col\": \"y7\", \"idx\": 7, \"val\": 47}, {\"col\": \"y8\", \"idx\": 7, \"val\": 24}, {\"col\": \"y9\", \"idx\": 7, \"val\": 83}, {\"col\": \"y0\", \"idx\": 8, \"val\": 97}, {\"col\": \"y1\", \"idx\": 8, \"val\": 80}, {\"col\": \"y2\", \"idx\": 8, \"val\": 82}, {\"col\": \"y3\", \"idx\": 8, \"val\": 86}, {\"col\": \"y4\", \"idx\": 8, \"val\": 94}, {\"col\": \"y5\", \"idx\": 8, \"val\": 28}, {\"col\": \"y6\", \"idx\": 8, \"val\": 68}, {\"col\": \"y7\", \"idx\": 8, \"val\": 12}, {\"col\": \"y8\", \"idx\": 8, \"val\": 40}, {\"col\": \"y9\", \"idx\": 8, \"val\": 93}, {\"col\": \"y0\", \"idx\": 9, \"val\": 15}, {\"col\": \"y1\", \"idx\": 9, \"val\": 19}, {\"col\": \"y2\", \"idx\": 9, \"val\": 87}, {\"col\": \"y3\", \"idx\": 9, \"val\": 61}, {\"col\": \"y4\", \"idx\": 9, \"val\": 91}, {\"col\": \"y5\", \"idx\": 9, \"val\": 40}, {\"col\": \"y6\", \"idx\": 9, \"val\": 53}, {\"col\": \"y7\", \"idx\": 9, \"val\": 40}, {\"col\": \"y8\", \"idx\": 9, \"val\": 20}, {\"col\": \"y9\", \"idx\": 9, \"val\": 52}, {\"col\": \"y0\", \"idx\": 10, \"val\": 25}, {\"col\": \"y1\", \"idx\": 10, \"val\": 99}, {\"col\": \"y2\", \"idx\": 10, \"val\": 33}, {\"col\": \"y3\", \"idx\": 10, \"val\": 98}, {\"col\": \"y4\", \"idx\": 10, \"val\": 82}, {\"col\": \"y5\", \"idx\": 10, \"val\": 41}, {\"col\": \"y6\", \"idx\": 10, \"val\": 58}, {\"col\": \"y7\", \"idx\": 10, \"val\": 34}, {\"col\": \"y8\", \"idx\": 10, \"val\": 78}, {\"col\": \"y9\", \"idx\": 10, \"val\": 38}, {\"col\": \"y0\", \"idx\": 11, \"val\": 86}, {\"col\": \"y1\", \"idx\": 11, \"val\": 86}, {\"col\": \"y2\", \"idx\": 11, \"val\": 44}, {\"col\": \"y3\", \"idx\": 11, \"val\": 41}, {\"col\": \"y4\", \"idx\": 11, \"val\": 31}, {\"col\": \"y5\", \"idx\": 11, \"val\": 99}, {\"col\": \"y6\", \"idx\": 11, \"val\": 89}, {\"col\": \"y7\", \"idx\": 11, \"val\": 68}, {\"col\": \"y8\", \"idx\": 11, \"val\": 44}, {\"col\": \"y9\", \"idx\": 11, \"val\": 76}, {\"col\": \"y0\", \"idx\": 12, \"val\": 26}, {\"col\": \"y1\", \"idx\": 12, \"val\": 57}, {\"col\": \"y2\", \"idx\": 12, \"val\": 74}, {\"col\": \"y3\", \"idx\": 12, \"val\": 73}, {\"col\": \"y4\", \"idx\": 12, \"val\": 40}, {\"col\": \"y5\", \"idx\": 12, \"val\": 19}, {\"col\": \"y6\", \"idx\": 12, \"val\": 32}, {\"col\": \"y7\", \"idx\": 12, \"val\": 34}, {\"col\": \"y8\", \"idx\": 12, \"val\": 19}, {\"col\": \"y9\", \"idx\": 12, \"val\": 92}, {\"col\": \"y0\", \"idx\": 13, \"val\": 63}, {\"col\": \"y1\", \"idx\": 13, \"val\": 11}, {\"col\": \"y2\", \"idx\": 13, \"val\": 100}, {\"col\": \"y3\", \"idx\": 13, \"val\": 79}, {\"col\": \"y4\", \"idx\": 13, \"val\": 100}, {\"col\": \"y5\", \"idx\": 13, \"val\": 70}, {\"col\": \"y6\", \"idx\": 13, \"val\": 11}, {\"col\": \"y7\", \"idx\": 13, \"val\": 30}, {\"col\": \"y8\", \"idx\": 13, \"val\": 77}, {\"col\": \"y9\", \"idx\": 13, \"val\": 64}, {\"col\": \"y0\", \"idx\": 14, \"val\": 90}, {\"col\": \"y1\", \"idx\": 14, \"val\": 32}, {\"col\": \"y2\", \"idx\": 14, \"val\": 17}, {\"col\": \"y3\", \"idx\": 14, \"val\": 16}, {\"col\": \"y4\", \"idx\": 14, \"val\": 46}, {\"col\": \"y5\", \"idx\": 14, \"val\": 98}, {\"col\": \"y6\", \"idx\": 14, \"val\": 52}, {\"col\": \"y7\", \"idx\": 14, \"val\": 68}, {\"col\": \"y8\", \"idx\": 14, \"val\": 37}, {\"col\": \"y9\", \"idx\": 14, \"val\": 10}, {\"col\": \"y0\", \"idx\": 15, \"val\": 38}, {\"col\": \"y1\", \"idx\": 15, \"val\": 15}, {\"col\": \"y2\", \"idx\": 15, \"val\": 88}, {\"col\": \"y3\", \"idx\": 15, \"val\": 59}, {\"col\": \"y4\", \"idx\": 15, \"val\": 46}, {\"col\": \"y5\", \"idx\": 15, \"val\": 45}, {\"col\": \"y6\", \"idx\": 15, \"val\": 46}, {\"col\": \"y7\", \"idx\": 15, \"val\": 69}, {\"col\": \"y8\", \"idx\": 15, \"val\": 79}, {\"col\": \"y9\", \"idx\": 15, \"val\": 58}, {\"col\": \"y0\", \"idx\": 16, \"val\": 77}, {\"col\": \"y1\", \"idx\": 16, \"val\": 39}, {\"col\": \"y2\", \"idx\": 16, \"val\": 64}, {\"col\": \"y3\", \"idx\": 16, \"val\": 46}, {\"col\": \"y4\", \"idx\": 16, \"val\": 32}, {\"col\": \"y5\", \"idx\": 16, \"val\": 100}, {\"col\": \"y6\", \"idx\": 16, \"val\": 35}, {\"col\": \"y7\", \"idx\": 16, \"val\": 53}, {\"col\": \"y8\", \"idx\": 16, \"val\": 32}, {\"col\": \"y9\", \"idx\": 16, \"val\": 68}, {\"col\": \"y0\", \"idx\": 17, \"val\": 81}, {\"col\": \"y1\", \"idx\": 17, \"val\": 67}, {\"col\": \"y2\", \"idx\": 17, \"val\": 49}, {\"col\": \"y3\", \"idx\": 17, \"val\": 15}, {\"col\": \"y4\", \"idx\": 17, \"val\": 74}, {\"col\": \"y5\", \"idx\": 17, \"val\": 76}, {\"col\": \"y6\", \"idx\": 17, \"val\": 100}, {\"col\": \"y7\", \"idx\": 17, \"val\": 68}, {\"col\": \"y8\", \"idx\": 17, \"val\": 22}, {\"col\": \"y9\", \"idx\": 17, \"val\": 77}, {\"col\": \"y0\", \"idx\": 18, \"val\": 94}, {\"col\": \"y1\", \"idx\": 18, \"val\": 23}, {\"col\": \"y2\", \"idx\": 18, \"val\": 29}, {\"col\": \"y3\", \"idx\": 18, \"val\": 39}, {\"col\": \"y4\", \"idx\": 18, \"val\": 13}, {\"col\": \"y5\", \"idx\": 18, \"val\": 20}, {\"col\": \"y6\", \"idx\": 18, \"val\": 62}, {\"col\": \"y7\", \"idx\": 18, \"val\": 90}, {\"col\": \"y8\", \"idx\": 18, \"val\": 47}, {\"col\": \"y9\", \"idx\": 18, \"val\": 31}, {\"col\": \"y0\", \"idx\": 19, \"val\": 56}, {\"col\": \"y1\", \"idx\": 19, \"val\": 23}, {\"col\": \"y2\", \"idx\": 19, \"val\": 92}, {\"col\": \"y3\", \"idx\": 19, \"val\": 26}, {\"col\": \"y4\", \"idx\": 19, \"val\": 91}, {\"col\": \"y5\", \"idx\": 19, \"val\": 71}, {\"col\": \"y6\", \"idx\": 19, \"val\": 12}, {\"col\": \"y7\", \"idx\": 19, \"val\": 60}, {\"col\": \"y8\", \"idx\": 19, \"val\": 93}, {\"col\": \"y9\", \"idx\": 19, \"val\": 87}, {\"col\": \"y0\", \"idx\": 20, \"val\": 32}, {\"col\": \"y1\", \"idx\": 20, \"val\": 70}, {\"col\": \"y2\", \"idx\": 20, \"val\": 89}, {\"col\": \"y3\", \"idx\": 20, \"val\": 90}, {\"col\": \"y4\", \"idx\": 20, \"val\": 40}, {\"col\": \"y5\", \"idx\": 20, \"val\": 50}, {\"col\": \"y6\", \"idx\": 20, \"val\": 94}, {\"col\": \"y7\", \"idx\": 20, \"val\": 73}, {\"col\": \"y8\", \"idx\": 20, \"val\": 30}, {\"col\": \"y9\", \"idx\": 20, \"val\": 49}]}, {\"name\": \"stats\", \"source\": \"table\", \"transform\": [{\"keys\": [\"data.idx\"], \"type\": \"facet\"}, {\"type\": \"stats\", \"value\": \"data.val\"}]}], \"height\": 500, \"legends\": [{\"fill\": \"color\", \"offset\": 0, \"properties\": {}, \"title\": \"Categories\"}], \"marks\": [{\"from\": {\"data\": \"table\", \"transform\": [{\"keys\": [\"data.col\"], \"type\": \"facet\"}, {\"height\": \"data.val\", \"point\": \"data.idx\", \"type\": \"stack\"}]}, \"marks\": [{\"properties\": {\"enter\": {\"fill\": {\"field\": \"data.col\", \"scale\": \"color\"}, \"interpolate\": {\"value\": \"monotone\"}, \"x\": {\"field\": \"data.idx\", \"scale\": \"x\"}, \"y\": {\"field\": \"y\", \"scale\": \"y\"}, \"y2\": {\"field\": \"y2\", \"scale\": \"y\"}}}, \"type\": \"area\"}], \"type\": \"group\"}], \"padding\": \"auto\", \"scales\": [{\"domain\": {\"data\": \"table\", \"field\": \"data.idx\"}, \"name\": \"x\", \"range\": \"width\", \"type\": \"linear\", \"zero\": false}, {\"domain\": {\"data\": \"stats\", \"field\": \"sum\"}, \"name\": \"y\", \"nice\": true, \"range\": \"height\"}, {\"domain\": {\"data\": \"table\", \"field\": \"data.col\"}, \"name\": \"color\", \"range\": [\"#9e0142\", \"#d53e4f\", \"#f46d43\", \"#fdae61\", \"#fee08b\", \"#ffffbf\", \"#e6f598\", \"#abdda4\", \"#66c2a5\", \"#3288bd\", \"#5e4fa2\"], \"type\": \"ordinal\"}], \"width\": 960}, function(chart) {\n",
        "         chart({el: \"#visacef4022d052408cbdb2ee23a5bc1812\"}).update();\n",
        "       });\n",
        "     };\n",
        "     _do_plot();\n",
        "   })();\n",
        "</script>\n",
        "<style>.vega canvas {width: 100%;}</style>\n",
        "        "
       ],
       "metadata": {},
       "output_type": "display_data",
       "text": [
        "<IPython.core.display.HTML at 0x7f0d13cb1c90>"
       ]
      }
     ],
     "prompt_number": 22
    },
    {
     "cell_type": "code",
     "collapsed": false,
     "input": [
      "stack = vincent.StackedBar(df_2)\n",
      "stack.legend(title='Categories')\n",
      "stack.scales['x'].padding = 0.1\n",
      "stack.display()"
     ],
     "language": "python",
     "metadata": {},
     "outputs": [
      {
       "html": [
        "<div id=\"visb781ac480e484d679ae1215b00806e98\"></div>\n",
        "<script>\n",
        "   ( function() {\n",
        "     var _do_plot = function() {\n",
        "       if (typeof vg === 'undefined') {\n",
        "         window.addEventListener('vincent_libs_loaded', _do_plot)\n",
        "         return;\n",
        "       }\n",
        "       vg.parse.spec({\"axes\": [{\"scale\": \"x\", \"type\": \"x\"}, {\"scale\": \"y\", \"type\": \"y\"}], \"data\": [{\"name\": \"table\", \"values\": [{\"col\": \"Metric_0\", \"idx\": \"Data 1\", \"val\": 58}, {\"col\": \"Metric_1\", \"idx\": \"Data 1\", \"val\": 54}, {\"col\": \"Metric_2\", \"idx\": \"Data 1\", \"val\": 32}, {\"col\": \"Metric_3\", \"idx\": \"Data 1\", \"val\": 30}, {\"col\": \"Metric_4\", \"idx\": \"Data 1\", \"val\": 13}, {\"col\": \"Metric_5\", \"idx\": \"Data 1\", \"val\": 24}, {\"col\": \"Metric_6\", \"idx\": \"Data 1\", \"val\": 50}, {\"col\": \"Metric_7\", \"idx\": \"Data 1\", \"val\": 78}, {\"col\": \"Metric_8\", \"idx\": \"Data 1\", \"val\": 20}, {\"col\": \"Metric_9\", \"idx\": \"Data 1\", \"val\": 70}, {\"col\": \"Metric_0\", \"idx\": \"Data 2\", \"val\": 36}, {\"col\": \"Metric_1\", \"idx\": \"Data 2\", \"val\": 87}, {\"col\": \"Metric_2\", \"idx\": \"Data 2\", \"val\": 78}, {\"col\": \"Metric_3\", \"idx\": \"Data 2\", \"val\": 90}, {\"col\": \"Metric_4\", \"idx\": \"Data 2\", \"val\": 14}, {\"col\": \"Metric_5\", \"idx\": \"Data 2\", \"val\": 21}, {\"col\": \"Metric_6\", \"idx\": \"Data 2\", \"val\": 28}, {\"col\": \"Metric_7\", \"idx\": \"Data 2\", \"val\": 41}, {\"col\": \"Metric_8\", \"idx\": \"Data 2\", \"val\": 34}, {\"col\": \"Metric_9\", \"idx\": \"Data 2\", \"val\": 78}, {\"col\": \"Metric_0\", \"idx\": \"Data 3\", \"val\": 83}, {\"col\": \"Metric_1\", \"idx\": \"Data 3\", \"val\": 71}, {\"col\": \"Metric_2\", \"idx\": \"Data 3\", \"val\": 34}, {\"col\": \"Metric_3\", \"idx\": \"Data 3\", \"val\": 78}, {\"col\": \"Metric_4\", \"idx\": \"Data 3\", \"val\": 93}, {\"col\": \"Metric_5\", \"idx\": \"Data 3\", \"val\": 37}, {\"col\": \"Metric_6\", \"idx\": \"Data 3\", \"val\": 88}, {\"col\": \"Metric_7\", \"idx\": \"Data 3\", \"val\": 13}, {\"col\": \"Metric_8\", \"idx\": \"Data 3\", \"val\": 46}, {\"col\": \"Metric_9\", \"idx\": \"Data 3\", \"val\": 21}, {\"col\": \"Metric_0\", \"idx\": \"Data 4\", \"val\": 73}, {\"col\": \"Metric_1\", \"idx\": \"Data 4\", \"val\": 51}, {\"col\": \"Metric_2\", \"idx\": \"Data 4\", \"val\": 83}, {\"col\": \"Metric_3\", \"idx\": \"Data 4\", \"val\": 28}, {\"col\": \"Metric_4\", \"idx\": \"Data 4\", \"val\": 15}, {\"col\": \"Metric_5\", \"idx\": \"Data 4\", \"val\": 10}, {\"col\": \"Metric_6\", \"idx\": \"Data 4\", \"val\": 46}, {\"col\": \"Metric_7\", \"idx\": \"Data 4\", \"val\": 49}, {\"col\": \"Metric_8\", \"idx\": \"Data 4\", \"val\": 20}, {\"col\": \"Metric_9\", \"idx\": \"Data 4\", \"val\": 95}]}, {\"name\": \"stats\", \"source\": \"table\", \"transform\": [{\"keys\": [\"data.idx\"], \"type\": \"facet\"}, {\"type\": \"stats\", \"value\": \"data.val\"}]}], \"height\": 500, \"legends\": [{\"fill\": \"color\", \"offset\": 0, \"properties\": {}, \"title\": \"Categories\"}], \"marks\": [{\"from\": {\"data\": \"table\", \"transform\": [{\"keys\": [\"data.col\"], \"type\": \"facet\"}, {\"height\": \"data.val\", \"point\": \"data.idx\", \"type\": \"stack\"}]}, \"marks\": [{\"properties\": {\"enter\": {\"fill\": {\"field\": \"data.col\", \"scale\": \"color\"}, \"width\": {\"band\": true, \"offset\": -1, \"scale\": \"x\"}, \"x\": {\"field\": \"data.idx\", \"scale\": \"x\"}, \"y\": {\"field\": \"y\", \"scale\": \"y\"}, \"y2\": {\"field\": \"y2\", \"scale\": \"y\"}}}, \"type\": \"rect\"}], \"type\": \"group\"}], \"padding\": \"auto\", \"scales\": [{\"domain\": {\"data\": \"table\", \"field\": \"data.idx\"}, \"name\": \"x\", \"padding\": 0.1, \"range\": \"width\", \"type\": \"ordinal\", \"zero\": false}, {\"domain\": {\"data\": \"stats\", \"field\": \"sum\"}, \"name\": \"y\", \"nice\": true, \"range\": \"height\"}, {\"domain\": {\"data\": \"table\", \"field\": \"data.col\"}, \"name\": \"color\", \"range\": \"category20\", \"type\": \"ordinal\"}], \"width\": 960}, function(chart) {\n",
        "         chart({el: \"#visb781ac480e484d679ae1215b00806e98\"}).update();\n",
        "       });\n",
        "     };\n",
        "     _do_plot();\n",
        "   })();\n",
        "</script>\n",
        "<style>.vega canvas {width: 100%;}</style>\n",
        "        "
       ],
       "metadata": {},
       "output_type": "display_data",
       "text": [
        "<IPython.core.display.HTML at 0x7f0d13cb1ad0>"
       ]
      }
     ],
     "prompt_number": 23
    },
    {
     "cell_type": "code",
     "collapsed": false,
     "input": [
      "stack = vincent.StackedBar(df_farm.T)\n",
      "stack.axis_titles(x='Total Produce', y='Farms')\n",
      "stack.legend(title='Produce Types')\n",
      "stack.colors(brew='Pastel1')\n",
      "stack.display()"
     ],
     "language": "python",
     "metadata": {},
     "outputs": [
      {
       "html": [
        "<div id=\"vis77f29906e7e9466eafafe7d71b306513\"></div>\n",
        "<script>\n",
        "   ( function() {\n",
        "     var _do_plot = function() {\n",
        "       if (typeof vg === 'undefined') {\n",
        "         window.addEventListener('vincent_libs_loaded', _do_plot)\n",
        "         return;\n",
        "       }\n",
        "       vg.parse.spec({\"axes\": [{\"scale\": \"x\", \"title\": \"Total Produce\", \"type\": \"x\"}, {\"scale\": \"y\", \"title\": \"Farms\", \"type\": \"y\"}], \"data\": [{\"name\": \"table\", \"values\": [{\"col\": \"Farm 1\", \"idx\": \"apples\", \"val\": 10}, {\"col\": \"Farm 2\", \"idx\": \"apples\", \"val\": 15}, {\"col\": \"Farm 3\", \"idx\": \"apples\", \"val\": 6}, {\"col\": \"Farm 4\", \"idx\": \"apples\", \"val\": 12}, {\"col\": \"Farm 1\", \"idx\": \"berries\", \"val\": 32}, {\"col\": \"Farm 2\", \"idx\": \"berries\", \"val\": 43}, {\"col\": \"Farm 3\", \"idx\": \"berries\", \"val\": 24}, {\"col\": \"Farm 4\", \"idx\": \"berries\", \"val\": 30}, {\"col\": \"Farm 1\", \"idx\": \"corn\", \"val\": 18}, {\"col\": \"Farm 2\", \"idx\": \"corn\", \"val\": 22}, {\"col\": \"Farm 3\", \"idx\": \"corn\", \"val\": 30}, {\"col\": \"Farm 4\", \"idx\": \"corn\", \"val\": 15}, {\"col\": \"Farm 1\", \"idx\": \"melons\", \"val\": 13}, {\"col\": \"Farm 2\", \"idx\": \"melons\", \"val\": 10}, {\"col\": \"Farm 3\", \"idx\": \"melons\", \"val\": 16}, {\"col\": \"Farm 4\", \"idx\": \"melons\", \"val\": 9}, {\"col\": \"Farm 1\", \"idx\": \"squash\", \"val\": 21}, {\"col\": \"Farm 2\", \"idx\": \"squash\", \"val\": 17}, {\"col\": \"Farm 3\", \"idx\": \"squash\", \"val\": 22}, {\"col\": \"Farm 4\", \"idx\": \"squash\", \"val\": 15}]}, {\"name\": \"stats\", \"source\": \"table\", \"transform\": [{\"keys\": [\"data.idx\"], \"type\": \"facet\"}, {\"type\": \"stats\", \"value\": \"data.val\"}]}], \"height\": 500, \"legends\": [{\"fill\": \"color\", \"offset\": 0, \"properties\": {}, \"title\": \"Produce Types\"}], \"marks\": [{\"from\": {\"data\": \"table\", \"transform\": [{\"keys\": [\"data.col\"], \"type\": \"facet\"}, {\"height\": \"data.val\", \"point\": \"data.idx\", \"type\": \"stack\"}]}, \"marks\": [{\"properties\": {\"enter\": {\"fill\": {\"field\": \"data.col\", \"scale\": \"color\"}, \"width\": {\"band\": true, \"offset\": -1, \"scale\": \"x\"}, \"x\": {\"field\": \"data.idx\", \"scale\": \"x\"}, \"y\": {\"field\": \"y\", \"scale\": \"y\"}, \"y2\": {\"field\": \"y2\", \"scale\": \"y\"}}}, \"type\": \"rect\"}], \"type\": \"group\"}], \"padding\": \"auto\", \"scales\": [{\"domain\": {\"data\": \"table\", \"field\": \"data.idx\"}, \"name\": \"x\", \"range\": \"width\", \"type\": \"ordinal\", \"zero\": false}, {\"domain\": {\"data\": \"stats\", \"field\": \"sum\"}, \"name\": \"y\", \"nice\": true, \"range\": \"height\"}, {\"domain\": {\"data\": \"table\", \"field\": \"data.col\"}, \"name\": \"color\", \"range\": [\"#fbb4ae\", \"#b3cde3\", \"#ccebc5\", \"#decbe4\", \"#fed9a6\", \"#ffffcc\", \"#e5d8bd\", \"#fddaec\", \"#f2f2f2\"], \"type\": \"ordinal\"}], \"width\": 960}, function(chart) {\n",
        "         chart({el: \"#vis77f29906e7e9466eafafe7d71b306513\"}).update();\n",
        "       });\n",
        "     };\n",
        "     _do_plot();\n",
        "   })();\n",
        "</script>\n",
        "<style>.vega canvas {width: 100%;}</style>\n",
        "        "
       ],
       "metadata": {},
       "output_type": "display_data",
       "text": [
        "<IPython.core.display.HTML at 0x7f0d13cb1a10>"
       ]
      }
     ],
     "prompt_number": 24
    },
    {
     "cell_type": "code",
     "collapsed": false,
     "input": [
      "group = vincent.GroupedBar(df_2)\n",
      "group.legend(title='Categories')\n",
      "group.colors(brew='Spectral')\n",
      "group.width=750\n",
      "group.display()"
     ],
     "language": "python",
     "metadata": {},
     "outputs": [
      {
       "html": [
        "<div id=\"vis852fea0abb5c44c5af3e477dbdf89691\"></div>\n",
        "<script>\n",
        "   ( function() {\n",
        "     var _do_plot = function() {\n",
        "       if (typeof vg === 'undefined') {\n",
        "         window.addEventListener('vincent_libs_loaded', _do_plot)\n",
        "         return;\n",
        "       }\n",
        "       vg.parse.spec({\"axes\": [{\"scale\": \"x\", \"type\": \"x\"}, {\"scale\": \"y\", \"type\": \"y\"}], \"data\": [{\"name\": \"table\", \"values\": [{\"col\": \"Metric_0\", \"idx\": \"Data 1\", \"val\": 58}, {\"col\": \"Metric_1\", \"idx\": \"Data 1\", \"val\": 54}, {\"col\": \"Metric_2\", \"idx\": \"Data 1\", \"val\": 32}, {\"col\": \"Metric_3\", \"idx\": \"Data 1\", \"val\": 30}, {\"col\": \"Metric_4\", \"idx\": \"Data 1\", \"val\": 13}, {\"col\": \"Metric_5\", \"idx\": \"Data 1\", \"val\": 24}, {\"col\": \"Metric_6\", \"idx\": \"Data 1\", \"val\": 50}, {\"col\": \"Metric_7\", \"idx\": \"Data 1\", \"val\": 78}, {\"col\": \"Metric_8\", \"idx\": \"Data 1\", \"val\": 20}, {\"col\": \"Metric_9\", \"idx\": \"Data 1\", \"val\": 70}, {\"col\": \"Metric_0\", \"idx\": \"Data 2\", \"val\": 36}, {\"col\": \"Metric_1\", \"idx\": \"Data 2\", \"val\": 87}, {\"col\": \"Metric_2\", \"idx\": \"Data 2\", \"val\": 78}, {\"col\": \"Metric_3\", \"idx\": \"Data 2\", \"val\": 90}, {\"col\": \"Metric_4\", \"idx\": \"Data 2\", \"val\": 14}, {\"col\": \"Metric_5\", \"idx\": \"Data 2\", \"val\": 21}, {\"col\": \"Metric_6\", \"idx\": \"Data 2\", \"val\": 28}, {\"col\": \"Metric_7\", \"idx\": \"Data 2\", \"val\": 41}, {\"col\": \"Metric_8\", \"idx\": \"Data 2\", \"val\": 34}, {\"col\": \"Metric_9\", \"idx\": \"Data 2\", \"val\": 78}, {\"col\": \"Metric_0\", \"idx\": \"Data 3\", \"val\": 83}, {\"col\": \"Metric_1\", \"idx\": \"Data 3\", \"val\": 71}, {\"col\": \"Metric_2\", \"idx\": \"Data 3\", \"val\": 34}, {\"col\": \"Metric_3\", \"idx\": \"Data 3\", \"val\": 78}, {\"col\": \"Metric_4\", \"idx\": \"Data 3\", \"val\": 93}, {\"col\": \"Metric_5\", \"idx\": \"Data 3\", \"val\": 37}, {\"col\": \"Metric_6\", \"idx\": \"Data 3\", \"val\": 88}, {\"col\": \"Metric_7\", \"idx\": \"Data 3\", \"val\": 13}, {\"col\": \"Metric_8\", \"idx\": \"Data 3\", \"val\": 46}, {\"col\": \"Metric_9\", \"idx\": \"Data 3\", \"val\": 21}, {\"col\": \"Metric_0\", \"idx\": \"Data 4\", \"val\": 73}, {\"col\": \"Metric_1\", \"idx\": \"Data 4\", \"val\": 51}, {\"col\": \"Metric_2\", \"idx\": \"Data 4\", \"val\": 83}, {\"col\": \"Metric_3\", \"idx\": \"Data 4\", \"val\": 28}, {\"col\": \"Metric_4\", \"idx\": \"Data 4\", \"val\": 15}, {\"col\": \"Metric_5\", \"idx\": \"Data 4\", \"val\": 10}, {\"col\": \"Metric_6\", \"idx\": \"Data 4\", \"val\": 46}, {\"col\": \"Metric_7\", \"idx\": \"Data 4\", \"val\": 49}, {\"col\": \"Metric_8\", \"idx\": \"Data 4\", \"val\": 20}, {\"col\": \"Metric_9\", \"idx\": \"Data 4\", \"val\": 95}]}], \"height\": 500, \"legends\": [{\"fill\": \"color\", \"offset\": 0, \"properties\": {}, \"title\": \"Categories\"}], \"marks\": [{\"from\": {\"data\": \"table\", \"transform\": [{\"keys\": [\"data.idx\"], \"type\": \"facet\"}]}, \"marks\": [{\"properties\": {\"enter\": {\"fill\": {\"field\": \"data.col\", \"scale\": \"color\"}, \"width\": {\"band\": true, \"offset\": -1, \"scale\": \"pos\"}, \"x\": {\"field\": \"data.col\", \"scale\": \"pos\"}, \"y\": {\"field\": \"data.val\", \"scale\": \"y\"}, \"y2\": {\"scale\": \"y\", \"value\": 0}}}, \"type\": \"rect\"}], \"properties\": {\"enter\": {\"width\": {\"band\": true, \"scale\": \"x\"}, \"x\": {\"field\": \"key\", \"scale\": \"x\"}}}, \"scales\": [{\"domain\": {\"field\": \"data.col\"}, \"name\": \"pos\", \"range\": \"width\", \"type\": \"ordinal\"}], \"type\": \"group\"}], \"padding\": \"auto\", \"scales\": [{\"domain\": {\"data\": \"table\", \"field\": \"data.idx\"}, \"name\": \"x\", \"padding\": 0.2, \"range\": \"width\", \"type\": \"ordinal\"}, {\"domain\": {\"data\": \"table\", \"field\": \"data.val\"}, \"name\": \"y\", \"nice\": true, \"range\": \"height\"}, {\"domain\": {\"data\": \"table\", \"field\": \"data.col\"}, \"name\": \"color\", \"range\": [\"#9e0142\", \"#d53e4f\", \"#f46d43\", \"#fdae61\", \"#fee08b\", \"#ffffbf\", \"#e6f598\", \"#abdda4\", \"#66c2a5\", \"#3288bd\", \"#5e4fa2\"], \"type\": \"ordinal\"}], \"width\": 750}, function(chart) {\n",
        "         chart({el: \"#vis852fea0abb5c44c5af3e477dbdf89691\"}).update();\n",
        "       });\n",
        "     };\n",
        "     _do_plot();\n",
        "   })();\n",
        "</script>\n",
        "<style>.vega canvas {width: 100%;}</style>\n",
        "        "
       ],
       "metadata": {},
       "output_type": "display_data",
       "text": [
        "<IPython.core.display.HTML at 0x7f0d26dd8310>"
       ]
      }
     ],
     "prompt_number": 25
    },
    {
     "cell_type": "code",
     "collapsed": false,
     "input": [
      "group = vincent.GroupedBar(df_farm)\n",
      "group.axis_titles(x='Total Produce', y='Farms')\n",
      "group.legend(title='Produce Types')\n",
      "group.colors(brew='Set2')\n",
      "group.display()"
     ],
     "language": "python",
     "metadata": {},
     "outputs": [
      {
       "html": [
        "<div id=\"vis18e6a690b9074596a55683a7d35967ac\"></div>\n",
        "<script>\n",
        "   ( function() {\n",
        "     var _do_plot = function() {\n",
        "       if (typeof vg === 'undefined') {\n",
        "         window.addEventListener('vincent_libs_loaded', _do_plot)\n",
        "         return;\n",
        "       }\n",
        "       vg.parse.spec({\"axes\": [{\"scale\": \"x\", \"title\": \"Total Produce\", \"type\": \"x\"}, {\"scale\": \"y\", \"title\": \"Farms\", \"type\": \"y\"}], \"data\": [{\"name\": \"table\", \"values\": [{\"col\": \"apples\", \"idx\": \"Farm 1\", \"val\": 10}, {\"col\": \"berries\", \"idx\": \"Farm 1\", \"val\": 32}, {\"col\": \"corn\", \"idx\": \"Farm 1\", \"val\": 18}, {\"col\": \"melons\", \"idx\": \"Farm 1\", \"val\": 13}, {\"col\": \"squash\", \"idx\": \"Farm 1\", \"val\": 21}, {\"col\": \"apples\", \"idx\": \"Farm 2\", \"val\": 15}, {\"col\": \"berries\", \"idx\": \"Farm 2\", \"val\": 43}, {\"col\": \"corn\", \"idx\": \"Farm 2\", \"val\": 22}, {\"col\": \"melons\", \"idx\": \"Farm 2\", \"val\": 10}, {\"col\": \"squash\", \"idx\": \"Farm 2\", \"val\": 17}, {\"col\": \"apples\", \"idx\": \"Farm 3\", \"val\": 6}, {\"col\": \"berries\", \"idx\": \"Farm 3\", \"val\": 24}, {\"col\": \"corn\", \"idx\": \"Farm 3\", \"val\": 30}, {\"col\": \"melons\", \"idx\": \"Farm 3\", \"val\": 16}, {\"col\": \"squash\", \"idx\": \"Farm 3\", \"val\": 22}, {\"col\": \"apples\", \"idx\": \"Farm 4\", \"val\": 12}, {\"col\": \"berries\", \"idx\": \"Farm 4\", \"val\": 30}, {\"col\": \"corn\", \"idx\": \"Farm 4\", \"val\": 15}, {\"col\": \"melons\", \"idx\": \"Farm 4\", \"val\": 9}, {\"col\": \"squash\", \"idx\": \"Farm 4\", \"val\": 15}]}], \"height\": 500, \"legends\": [{\"fill\": \"color\", \"offset\": 0, \"properties\": {}, \"title\": \"Produce Types\"}], \"marks\": [{\"from\": {\"data\": \"table\", \"transform\": [{\"keys\": [\"data.idx\"], \"type\": \"facet\"}]}, \"marks\": [{\"properties\": {\"enter\": {\"fill\": {\"field\": \"data.col\", \"scale\": \"color\"}, \"width\": {\"band\": true, \"offset\": -1, \"scale\": \"pos\"}, \"x\": {\"field\": \"data.col\", \"scale\": \"pos\"}, \"y\": {\"field\": \"data.val\", \"scale\": \"y\"}, \"y2\": {\"scale\": \"y\", \"value\": 0}}}, \"type\": \"rect\"}], \"properties\": {\"enter\": {\"width\": {\"band\": true, \"scale\": \"x\"}, \"x\": {\"field\": \"key\", \"scale\": \"x\"}}}, \"scales\": [{\"domain\": {\"field\": \"data.col\"}, \"name\": \"pos\", \"range\": \"width\", \"type\": \"ordinal\"}], \"type\": \"group\"}], \"padding\": \"auto\", \"scales\": [{\"domain\": {\"data\": \"table\", \"field\": \"data.idx\"}, \"name\": \"x\", \"padding\": 0.2, \"range\": \"width\", \"type\": \"ordinal\"}, {\"domain\": {\"data\": \"table\", \"field\": \"data.val\"}, \"name\": \"y\", \"nice\": true, \"range\": \"height\"}, {\"domain\": {\"data\": \"table\", \"field\": \"data.col\"}, \"name\": \"color\", \"range\": [\"#66c2a5\", \"#fc8d62\", \"#8da0cb\", \"#e78ac3\", \"#a6d854\", \"#ffd92f\", \"#e5c494\", \"#b3b3b3\"], \"type\": \"ordinal\"}], \"width\": 960}, function(chart) {\n",
        "         chart({el: \"#vis18e6a690b9074596a55683a7d35967ac\"}).update();\n",
        "       });\n",
        "     };\n",
        "     _do_plot();\n",
        "   })();\n",
        "</script>\n",
        "<style>.vega canvas {width: 100%;}</style>\n",
        "        "
       ],
       "metadata": {},
       "output_type": "display_data",
       "text": [
        "<IPython.core.display.HTML at 0x7f0d13cb1b50>"
       ]
      }
     ],
     "prompt_number": 26
    },
    {
     "cell_type": "code",
     "collapsed": false,
     "input": [],
     "language": "python",
     "metadata": {},
     "outputs": [],
     "prompt_number": 26
    }
   ],
   "metadata": {}
  }
 ]
}